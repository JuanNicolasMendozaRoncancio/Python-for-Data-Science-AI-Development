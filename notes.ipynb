{
 "cells": [
  {
   "cell_type": "markdown",
   "id": "f4dab3bf",
   "metadata": {},
   "source": [
    "# Module 1\n"
   ]
  },
  {
   "cell_type": "markdown",
   "id": "3eaab8fc",
   "metadata": {},
   "source": [
    "## Regrex"
   ]
  },
  {
   "cell_type": "markdown",
   "id": "5162da3f",
   "metadata": {},
   "source": [
    "In Python, RegEx (short for Regular Expression) is a tool for matching and handling strings. This RegEx module provides several functions for working with regular expressions, including <code>search, split, findall,</code> and <code>sub</code>. \n",
    "\n",
    "Python provides a built-in module called <code>re</code>, which allows you to work with regular expressions. \n",
    "First, import the <code>re</code> module\n",
    "\n",
    "\n"
   ]
  },
  {
   "cell_type": "code",
   "execution_count": 1,
   "id": "845ef41d",
   "metadata": {},
   "outputs": [
    {
     "data": {
      "text/plain": [
       "['Hola', 'Mundo', 'soy', 'Nicolas']"
      ]
     },
     "execution_count": 1,
     "metadata": {},
     "output_type": "execute_result"
    }
   ],
   "source": [
    "string = \"Hola Mundo soy Nicolas\"\n",
    "string.split()"
   ]
  },
  {
   "cell_type": "markdown",
   "id": "9c22af8c",
   "metadata": {},
   "source": [
    "The search() function searches for specified patterns within a string. Here is an example that explains how to use the search() function to search for the word \"Body\" in the string \"The BodyGuard is the best\".\n"
   ]
  },
  {
   "cell_type": "code",
   "execution_count": 3,
   "id": "bc021bfb",
   "metadata": {},
   "outputs": [
    {
     "name": "stdout",
     "output_type": "stream",
     "text": [
      "Match found: Body\n"
     ]
    }
   ],
   "source": [
    "import re\n",
    "\n",
    "s1 =\"The BodyGuard is the best album ever\"\n",
    "pattern = r'Body'\n",
    "\n",
    "result = re.search(pattern, s1)\n",
    "\n",
    "if result:\n",
    "    print(\"Match found:\", result.group())   "
   ]
  },
  {
   "cell_type": "markdown",
   "id": "52f9d078",
   "metadata": {},
   "source": [
    "Regular expressions (RegEx) are patterns used to match and manipulate strings of text. There are several special sequences in RegEx that can be used to match specific characters or patterns.\n",
    "\n",
    "| Special Sequence | Meaning                 | \tExample             |\n",
    "| -----------  | ----------------------- | ----------------------|\n",
    "| \\d|Matches any digit character (0-9)|\"123\" matches \"\\d\\d\\d\"|\n",
    "|\\D|Matches any non-digit character|\"hello\" matches \"\\D\\D\\D\\D\\D\"|\n",
    "|\\w|Matches any word character (a-z, A-Z, 0-9, and _)|\"hello_world\" matches \"\\w\\w\\w\\w\\w\\w\\w\\w\\w\\w\\w\"|\n",
    "|\\W|Matches any non-word character|\t\"@#$%\" matches \"\\W\\W\\W\\W\"|\n",
    "|\\s|Matches any whitespace character (space, tab, newline, etc.)|\"hello world\" matches \"\\w\\w\\w\\w\\w\\s\\w\\w\\w\\w\\w\"|\n",
    "|\\S|Matches any non-whitespace character|\"hello_world\" matches \"\\S\\S\\S\\S\\S\\S\\S\\S\\S\\S\\S\"|\n",
    "|\\b|Matches the boundary between a word character and a non-word character|\"cat\" matches \"\\bcat\\b\" in \"The cat sat on the mat\"|\n",
    "|\\B|Matches any position that is not a word boundary|\"cat\" matches \"\\Bcat\\B\" in \"category\" but not in \"The cat sat on the mat\"|\n"
   ]
  },
  {
   "cell_type": "markdown",
   "id": "5c0f8f7a",
   "metadata": {},
   "source": [
    "A simple example of using the <code>\\d</code> special sequence in a regular expression pattern with Python code:\n"
   ]
  },
  {
   "cell_type": "code",
   "execution_count": 4,
   "id": "87a1e037",
   "metadata": {},
   "outputs": [
    {
     "name": "stdout",
     "output_type": "stream",
     "text": [
      "Phone number found: 1234567890\n"
     ]
    }
   ],
   "source": [
    "pattern = r\"\\d\\d\\d\\d\\d\\d\\d\\d\\d\\d\"  # Matches any ten consecutive digits\n",
    "text = \"My Phone number is 1234567890\"\n",
    "match = re.search(pattern, text)\n",
    "\n",
    "if match:\n",
    "    print(\"Phone number found:\", match.group())"
   ]
  },
  {
   "cell_type": "markdown",
   "id": "8aab6544",
   "metadata": {},
   "source": [
    "A simple example of using the <code>\\W</code> special sequence in a regular expression pattern with Python code:\n"
   ]
  },
  {
   "cell_type": "code",
   "execution_count": 7,
   "id": "145c5001",
   "metadata": {},
   "outputs": [
    {
     "name": "stdout",
     "output_type": "stream",
     "text": [
      "Matches: , [',', ' ', '!']\n"
     ]
    }
   ],
   "source": [
    "pattern = r\"\\W\"  # Matches any non-word character\n",
    "text = \"Hello, world!\"\n",
    "matches = re.search(pattern, text)\n",
    "marches2 = re.findall(pattern, text)\n",
    "\n",
    "print(\"Matches:\", matches.group(), marches2)"
   ]
  },
  {
   "cell_type": "markdown",
   "id": "e748a04f",
   "metadata": {},
   "source": [
    "A regular expression's <code>split()</code> function splits a string into an array of substrings based on a specified pattern.\n"
   ]
  },
  {
   "cell_type": "code",
   "execution_count": 9,
   "id": "5d9c65c2",
   "metadata": {},
   "outputs": [
    {
     "name": "stdout",
     "output_type": "stream",
     "text": [
      "['The', 'BodyGuard', 'is', 'the', 'best', 'album', 'of', \"'Whitney\", \"Houston'.\"]\n"
     ]
    }
   ],
   "source": [
    "s2 = \"The BodyGuard is the best album of 'Whitney Houston'.\"\n",
    "\n",
    "\n",
    "# Use the split function to split the string by the \"\\s\"\n",
    "split_array = re.split(r\"\\s\", s2)\n",
    "\n",
    "# The split_array contains all the substrings, split by whitespace characters\n",
    "print(split_array)"
   ]
  },
  {
   "cell_type": "markdown",
   "id": "88b0afa2",
   "metadata": {},
   "source": [
    "The <code>sub</code> function of a regular expression in Python is used to replace all occurrences of a pattern in a string with a specified replacement.\n"
   ]
  },
  {
   "cell_type": "code",
   "execution_count": 10,
   "id": "8f0e5e3c",
   "metadata": {},
   "outputs": [
    {
     "name": "stdout",
     "output_type": "stream",
     "text": [
      "The BodyGuard is the best album of 'legend'.\n"
     ]
    }
   ],
   "source": [
    "pattern = r\"Whitney Houston\"\n",
    "\n",
    "# Define the replacement string\n",
    "replacement = \"legend\"\n",
    "\n",
    "# Use the sub function to replace the pattern with the replacement string\n",
    "new_string = re.sub(pattern, replacement, s2, flags=re.IGNORECASE) # re.IGNORECASE makes the search case-insensitive, so it matches \"Whitney Houston\" in any letter case\n",
    "\n",
    "# The new_string contains the original string with the pattern replaced by the replacement string\n",
    "print(new_string) "
   ]
  },
  {
   "cell_type": "markdown",
   "id": "4068c4b9",
   "metadata": {},
   "source": [
    "\n",
    "| Método | Descripción | Ejemplo de Código |\n",
    "|--------|-------------|-------------------|\n",
    "| **append()** | Añade un elemento al final de la lista | ```python<br>fruits = [\"apple\", \"banana\", \"orange\"]<br>fruits.append(\"mango\")<br>print(fruits)<br># Output: ['apple', 'banana', 'orange', 'mango']<br>``` |\n",
    "| **copy()** | Crea una copia superficial de la lista | ```python<br>my_list = [1, 2, 3, 4, 5]<br>new_list = my_list.copy()<br>print(new_list)<br># Output: [1, 2, 3, 4, 5]<br>``` |\n",
    "| **count()** | Cuenta las ocurrencias de un elemento específico | ```python<br>my_list = [1, 2, 2, 3, 4, 2, 5, 2]<br>count = my_list.count(2)<br>print(count)<br># Output: 4<br>``` |\n",
    "| **Crear lista** | Crea una colección ordenada y mutable | ```python<br>fruits = [\"apple\", \"banana\", \"orange\", \"mango\"]<br>print(fruits)<br>``` |\n",
    "| **del** | Elimina elemento en índice específico | ```python<br>my_list = [10, 20, 30, 40, 50]<br>del my_list[2]<br>print(my_list)<br># Output: [10, 20, 40, 50]<br>``` |\n",
    "| **extend()** | Añade múltiples elementos desde un iterable | ```python<br>fruits = [\"apple\", \"banana\", \"orange\"]<br>more_fruits = [\"mango\", \"grape\"]<br>fruits.extend(more_fruits)<br>print(fruits)<br># Output: ['apple', 'banana', 'orange', 'mango', 'grape']<br>``` |\n",
    "| **Indexación** | Accede a elementos por posición | ```python<br>my_list = [10, 20, 30, 40, 50]<br>print(my_list[0])  # Output: 10<br>print(my_list[-1]) # Output: 50<br>``` |\n",
    "| **insert()** | Inserta elemento en posición específica | ```python<br>my_list = [1, 2, 3, 4, 5]<br>my_list.insert(2, 6)<br>print(my_list)<br># Output: [1, 2, 6, 3, 4, 5]<br>``` |\n",
    "| **Modificar lista** | Cambia valores usando indexación | ```python<br>my_list = [10, 20, 30, 40, 50]<br>my_list[1] = 25<br>print(my_list)<br># Output: [10, 25, 30, 40, 50]<br>``` |\n",
    "| **pop()** | Elimina y retorna elemento en índice | ```python<br>my_list = [10, 20, 30, 40, 50]<br>removed_element = my_list.pop(2)<br>print(removed_element) # Output: 30<br>print(my_list)         # Output: [10, 20, 40, 50]<br>``` |\n",
    "| **remove()** | Elimina primera ocurrencia de valor | ```python<br>my_list = [10, 20, 30, 40, 50]<br>my_list.remove(30)<br>print(my_list)<br># Output: [10, 20, 40, 50]<br>``` |\n",
    "| **reverse()** | Invierte el orden de los elementos | ```python<br>my_list = [1, 2, 3, 4, 5]<br>my_list.reverse()<br>print(my_list)<br># Output: [5, 4, 3, 2, 1]<br>``` |\n",
    "| **Slicing** | Accede a rangos de elementos | ```python<br>my_list = [1, 2, 3, 4, 5]<br>print(my_list[1:4])  # Output: [2, 3, 4]<br>print(my_list[:3])   # Output: [1, 2, 3]<br>print(my_list[2:])   # Output: [3, 4, 5]<br>print(my_list[::2])  # Output: [1, 3, 5]<br>``` |\n",
    "| **sort()** | Ordena elementos en orden ascendente | ```python<br>my_list = [5, 2, 8, 1, 9]<br>my_list.sort()<br>print(my_list) # Output: [1, 2, 5, 8, 9]<br>``` |\n",
    "\n",
    "## Tuple Methods\n",
    "\n",
    "| Método | Descripción | Ejemplo de Código |\n",
    "|--------|-------------|-------------------|\n",
    "| **count()** | Cuenta ocurrencias de elemento específico | ```python<br>fruits = (\"apple\", \"banana\", \"apple\", \"orange\")<br>print(fruits.count(\"apple\"))<br># Output: 2<br>``` |\n",
    "| **index()** | Encuentra primera ocurrencia y retorna índice | ```python<br>fruits = (\"apple\", \"banana\", \"orange\", \"apple\")<br>print(fruits.index(\"apple\"))<br># Output: 0<br>``` |\n",
    "| **sum()** | Calcula suma de elementos numéricos | ```python<br>numbers = (10, 20, 5, 30)<br>print(sum(numbers))<br># Output: 65<br>``` |\n",
    "| **min() y max()** | Encuentra elemento más pequeño/grande | ```python<br>numbers = (10, 20, 5, 30)<br>print(min(numbers)) # Output: 5<br>print(max(numbers)) # Output: 30<br>``` |\n",
    "| **len()** | Obtiene número de elementos en tuple | ```python<br>fruits = (\"apple\", \"banana\", \"orange\")<br>print(len(fruits))<br># Output: 3<br>``` |"
   ]
  },
  {
   "cell_type": "markdown",
   "id": "219ec016",
   "metadata": {},
   "source": [
    "# Module 2"
   ]
  },
  {
   "cell_type": "markdown",
   "id": "16acc7ac",
   "metadata": {},
   "source": [
    "| Método | Descripción | Ejemplo de Código |\n",
    "|--------|-------------|-------------------|\n",
    "| **Crear Diccionario** | Colección de pares clave-valor | ```python<br>dict_name = {}  # Diccionario vacío<br>person = {\"name\": \"John\", \"age\": 30, \"city\": \"New York\"}<br>print(person)<br>``` |\n",
    "| **Acceder a Valores** | Obtiene valores usando sus claves | ```python<br>name = person[\"name\"]<br>age = person[\"age\"]<br>print(name)  # Output: John<br>print(age)   # Output: 30<br>``` |\n",
    "| **Añadir o Modificar** | Inserta nuevo par clave-valor o actualiza existente | ```python<br>person[\"Country\"] = \"USA\"  # Nueva entrada<br>person[\"city\"] = \"Chicago\"  # Actualiza valor existente<br>print(person)<br>``` |\n",
    "| **del** | Elimina par clave-valor específico | ```python<br>del person[\"Country\"]<br>print(person)<br># Output: {'name': 'John', 'age': 30, 'city': 'Chicago'}<br>``` |\n",
    "| **update()** | Fusiona diccionario proporcionado con el existente | ```python<br>person.update({\"Profession\": \"Doctor\"})<br>print(person)<br># Output: {'name': 'John', 'age': 30, 'city': 'Chicago', 'Profession': 'Doctor'}<br>``` |\n",
    "| **clear()** | Vacía el diccionario eliminando todos los pares | ```python<br>grades = {'math': 90, 'science': 85}<br>grades.clear()<br>print(grades)  # Output: {}<br>``` |\n",
    "| **Verificar clave** | Comprueba existencia de clave con `in` | ```python<br>if \"name\" in person:<br>    print(\"Name exists in the dictionary\")<br># Output: Name exists in the dictionary<br>``` |\n",
    "| **copy()** | Crea copia superficial del diccionario | ```python<br>new_person = person.copy()<br>new_person2 = dict(person)  # Otra forma<br>print(new_person)<br>``` |\n",
    "| **keys()** | Obtiene todas las claves como lista | ```python<br>person_keys = list(person.keys())<br>print(person_keys)<br># Output: ['name', 'age', 'city', 'Profession']<br>``` |\n",
    "| **values()** | Obtiene todos los valores como lista | ```python<br>person_values = list(person.values())<br>print(person_values)<br># Output: ['John', 30, 'Chicago', 'Doctor']<br>``` |\n",
    "| **items()** | Obtiene todos los pares clave-valor como tuplas | ```python<br>info = list(person.items())<br>print(info)<br># Output: [('name', 'John'), ('age', 30), ('city', 'Chicago'), ('Profession', 'Doctor')]<br>``` |\n",
    "\n",
    "## Set Methods\n",
    "\n",
    "| Método | Descripción | Ejemplo de Código |\n",
    "|--------|-------------|-------------------|\n",
    "| **add()** | Añade elemento al set (elimina duplicados) | ```python<br>fruits = {\"apple\", \"banana\", \"orange\"}<br>fruits.add(\"mango\")<br>print(fruits)<br>``` |\n",
    "| **clear()** | Elimina todos los elementos del set | ```python<br>fruits.clear()<br>print(fruits)  # Output: set()<br>``` |\n",
    "| **copy()** | Crea copia superficial del set | ```python<br>fruits = {\"apple\", \"banana\", \"orange\"}<br>new_fruits = fruits.copy()<br>print(new_fruits)<br>``` |\n",
    "| **Definir Sets** | Colección desordenada de elementos únicos | ```python<br>empty_set = set()  # Set vacío<br>fruits = {\"apple\", \"banana\", \"orange\"}<br>colors = {\"orange\", \"red\", \"green\"}<br>print(fruits)<br>print(colors)<br>``` |\n",
    "| **discard()** | Elimina elemento específico (ignora si no existe) | ```python<br>fruits.discard(\"apple\")<br>print(fruits)<br># Output: {'banana', 'orange'}<br>``` |\n",
    "| **issubset()** | Verifica si set es subconjunto de otro | ```python<br>small_set = {\"apple\", \"banana\"}<br>is_subset = small_set.issubset(fruits)<br>print(is_subset)  # Output: True<br>``` |\n",
    "| **issuperset()** | Verifica si set es superconjunto de otro | ```python<br>is_superset = fruits.issuperset(small_set)<br>print(is_superset)  # Output: True<br>``` |\n",
    "| **pop()** | Elimina y retorna elemento arbitrario | ```python<br>fruits = {\"apple\", \"banana\", \"orange\"}<br>removed_fruit = fruits.pop()<br>print(removed_fruit)<br>print(fruits)<br>``` |\n",
    "| **remove()** | Elimina elemento específico (error si no existe) | ```python<br>fruits.remove(\"banana\")<br>print(fruits)<br># Output: {'apple', 'orange'}<br>``` |\n",
    "| **Operaciones de Set** | Unión, intersección, diferencia, diferencia simétrica | ```python<br>fruits = {\"apple\", \"banana\", \"orange\"}<br>colors = {\"orange\", \"red\", \"green\"}<br>union_set = fruits.union(colors)<br>intersection_set = fruits.intersection(colors)<br>difference_set = fruits.difference(colors)<br>sym_diff_set = fruits.symmetric_difference(colors)<br>print(f\"Unión: {union_set}\")<br>print(f\"Intersección: {intersection_set}\")<br>print(f\"Diferencia: {difference_set}\")<br>print(f\"Diferencia simétrica: {sym_diff_set}\")<br>``` |\n",
    "| **update()** | Añade elementos desde un iterable | ```python<br>fruits.update([\"kiwi\", \"grape\"])<br>print(fruits)<br># Output: {'apple', 'banana', 'orange', 'kiwi', 'grape'}<br>``` |"
   ]
  },
  {
   "cell_type": "markdown",
   "id": "5fb052b5",
   "metadata": {},
   "source": [
    "# Module 3"
   ]
  },
  {
   "cell_type": "markdown",
   "id": "e20e887a",
   "metadata": {},
   "source": [
    "## Exception Handeling\n"
   ]
  },
  {
   "cell_type": "markdown",
   "id": "13073fea",
   "metadata": {},
   "source": [
    "\n",
    "This type of statement will first attempt to execute the code in the “try” block, but if an error occurs it will kick out and begin searching for the exception that matches the error. Once it finds the correct exception to handle the error, it will then execute that line of code. \n",
    "\n",
    "When writing simple programs we can sometimes get away with only one except statement, but what happens if another error occurs that is not caught by the IOError? If that happened we would need to add another except statement. For this except statement you will notice that the type of error to catch is not specified. While this may seem a logical step so the program will catch all errors and not terminate, this is not a best practice.\n",
    "\n",
    "![Descripción de la imagen](Images\\imageI.png)"
   ]
  },
  {
   "cell_type": "markdown",
   "id": "b2d31a07",
   "metadata": {},
   "source": [
    "o far in our program we have defined that an error message should print out if an error occurs, but we do not receive any messages that the program executed properly. This is where we can now add an else statement to give us that notification. By adding this else statement it will provide us a notification to the console that “The file was written successfully.”\n",
    "\n",
    "\n",
    "\n",
    "By adding a finally statement it will tell the program to close the file no matter the end result and print “File is now closed” to our console.\n",
    "\n",
    "![image.png](Images\\imageII.png)"
   ]
  },
  {
   "cell_type": "markdown",
   "id": "d39767b7",
   "metadata": {},
   "source": [
    "## Objects and Classes"
   ]
  },
  {
   "cell_type": "markdown",
   "id": "c34064d1",
   "metadata": {},
   "source": [
    "Every object has the following; a type, internal representation, a set of functions called methods to interact with the data. An object is an instance of a particular type.\n",
    "\n",
    "Let's do several less abstract examples. Every time we create an integer, we are creating an instance of type integer, or we are creating an integer object. In this case, we are creating five instances of type integer or five integer objects. Similarly, every time we create a list, we are creating an instance of type list, or we are creating a list object. In this case, we are creating five instances of type list or five list objects."
   ]
  },
  {
   "cell_type": "markdown",
   "id": "7cb932fd",
   "metadata": {},
   "source": [
    "A class or type methods are functions that every instance of that class or type provides. \n",
    "It's how you interact with the object. We have been using methods all this time, for example, on lists. Sorting is an example of a method that interacts with the data in the object. We call the method by adding a period at the end of the object's name, and the method's name we would like to call with parentheses. \n",
    "\n"
   ]
  },
  {
   "cell_type": "markdown",
   "id": "4d912f6e",
   "metadata": {},
   "source": [
    "You can create your own type or class in Python. In this section, you'll create a class. The class has data attributes. The class has methods. We then create instances or instances of that class or objects. \n",
    "The class data attributes define the class. Let's create two classes. The first class will be a circle. The second will be a rectangle. Let's think about what constitutes a circle. Examining this image, all we need is a radius to define a circle and let's add color to make it easier to distinguish between different instances of the class later. Therefore, our class data attributes are radius and color. \n",
    "Similarly, examining the image in order to define a rectangle, we need the height and width. We will also add color to distinguish between instances later.\n",
    "\n",
    "![image.png](Images\\imageIII.png)"
   ]
  },
  {
   "cell_type": "markdown",
   "id": "a23065e4",
   "metadata": {},
   "source": [
    "To create the class circle, you will need to include the class definition. This tells Python you are creating your own class, the name of the class. For this course in parentheses, you will always place the term object. This is the parent of the class. \n",
    "\n",
    "```class circle (object)```"
   ]
  },
  {
   "cell_type": "markdown",
   "id": "1facfcb7",
   "metadata": {},
   "source": [
    "Classes are outlines we have to set the attributes to create objects. We can create an object that is an instance of type circle. The color data attribute is red, and the data attribute radius is four. We can also create a second object that is an instance of type circle. In this case, the color data attribute is green, and the data attribute radius is two. We can also create an object that is an instance of type rectangle. \n",
    "The color data attribute is blue, and the data attribute of height and width is two. The second object is also an instance of type rectangle. In this case, the color data attribute is yellow, and the height is one, and the width is three."
   ]
  },
  {
   "cell_type": "markdown",
   "id": "4e9d2807",
   "metadata": {},
   "source": [
    "Let us continue building the circle class in Python. We define our class. We define our class. \n",
    "We then initialize each instance of the class with data attributes, radius and color using the class constructor. Function in it is a constructor. It's a special function that tells Python you are making a new class. There are other special functions in Python to make more complex classes. The radius and color parameters are used to initialize the radius and color data attributes of the class instance. The self parameter refers to the newly created instance of the class. The parameters radius and color can be used in the constructor's body to access the values passed to the class constructor when the class is constructed. We can set the value of the radius and color data attributes to the values passed to the constructor method.\n",
    "\n",
    "![image.png](Images\\imageIV.png)\n",
    "\n",
    "It is helpful to think of self as a box that contains all the data attributes of the object. Typing the object's name followed by a dot and the data attribute name gives us the data attribute value, for example, radius. In this case, the radius is 10. \n",
    "We can do the same for color. We can see the relationship between the self parameter and the object. In Python, we can also set or change the data attribute directly, typing the object's name followed by a dot and the data attribute name and set it equal to the corresponding value."
   ]
  },
  {
   "cell_type": "markdown",
   "id": "1fb83ea4",
   "metadata": {},
   "source": [
    "Let's discuss methods. We have seen how data attributes consist of the data defining the objects. \n",
    "Methods are functions that interact and change the data attributes, changing or using the data attributes of the object. Let's say we would like to change the size of a circle. This involves changing the radius attribute. We add a method at radius to the class circle. \n",
    "\n",
    "![image.png](Images\\imageV.png)\n"
   ]
  },
  {
   "cell_type": "markdown",
   "id": "bba95734",
   "metadata": {},
   "source": [
    "# Module 4"
   ]
  },
  {
   "cell_type": "markdown",
   "id": "cfcbe9fa",
   "metadata": {},
   "source": [
    "One way Pandas allows you to work with data is in a DataFrame. Let us review the process of going from a CSV file to a DataFrame. \n",
    "This variable stores the path of the CSV. It is used as an argument to the readCSV function. The result is stored to the variable DF. This is short for DataFrame. Now that you have the data in a DataFrame, you can work with it. You can use the method head to examine the first five rows of a DataFrame.\n",
    "\n",
    "You can create a DataFrame out of a dictionary. The keys correspond to the column labels. The values are lists corresponding to the rows. You can then cast the dictionary to a DataFrame using the function DataFrame. \n",
    "Notice the direct correspondence between the table. The keys correspond to the table headers. The values are lists corresponding to the rows.\n",
    "\n",
    "![image.png](Images\\imageVI.png)"
   ]
  },
  {
   "cell_type": "markdown",
   "id": "3209f1b4",
   "metadata": {},
   "source": [
    "One way to access unique elements is with the ILOC method. The first input is an integer representing the row index, and the second is the integer representing the column index.\n",
    "\n",
    "![image.png](Images\\imageVII.png)"
   ]
  },
  {
   "cell_type": "markdown",
   "id": "94f75c23",
   "metadata": {},
   "source": [
    "You can use the name of the row index and the column as well. LOCK can also be used if the index is not an integer. We create a new data frame called DFNEW. We replace the index 1, 2, 3, and so on with ABC.\n",
    "\n",
    "![image.png](Images\\imageVIII.png)"
   ]
  },
  {
   "cell_type": "markdown",
   "id": "1f955c5c",
   "metadata": {},
   "source": [
    "\n",
    "| Método | Descripción | Sintaxis y Ejemplo |\n",
    "|--------|-------------|-------------------|\n",
    "| **Modos de apertura** | Diferentes modos para operaciones específicas | ```python<br># Lectura<br>with open(\"data.txt\", \"r\") as file:<br>    content = file.read()<br>    print(content)<br><br># Escritura<br>with open(\"output.txt\", \"w\") as file:<br>    file.write(\"Hello, world!\")<br><br># Añadir<br>with open(\"log.txt\", \"a\") as file:<br>    file.write(\"Log entry: Something happened.\")<br><br># Actualizar (lectura/escritura)<br>with open(\"data.txt\", \"r+\") as file:<br>    content = file.read()<br>    file.write(\"Updated content: \" + content)<br>``` |\n",
    "| **Métodos de lectura** | Diferentes formas de leer contenido de archivos | ```python<br>with open(\"data.txt\", \"r\") as file:<br>    lines = file.readlines()  # Lee todas las líneas como lista<br>    next_line = file.readline()  # Lee siguiente línea<br>    content = file.read()  # Lee todo el contenido<br>    print(lines)<br>    print(next_line)<br>    print(content)<br>``` |\n",
    "| **Métodos de escritura** | Diferentes métodos para escribir en archivos | ```python<br>lines = [\"Hello\\n\", \"World\\n\"]<br>with open(\"output.txt\", \"w\") as file:<br>    file.writelines(lines)  # Escribe lista de strings<br>    file.write(\"Additional text\")  # Escribe string<br>``` |\n",
    "| **Iterar sobre líneas** | Recorre cada línea del archivo con un bucle | ```python<br>with open(\"data.txt\", \"r\") as file:<br>    for line in file:<br>        print(line.strip())  # Procesa cada línea<br>``` |\n",
    "| **open() y close()** | Abre y cierra archivos explícitamente | ```python<br>file = open(\"data.txt\", \"r\")<br>content = file.read()<br>file.close()  # Cierre manual<br>print(content)<br>``` |\n",
    "| **with open()** | Abre archivos con manejo automático de cierre | ```python<br>with open(\"data.txt\", \"r\") as file:<br>    content = file.read()<br>    # El archivo se cierra automáticamente<br>print(content)<br>``` |\n",
    "\n",
    "## Pandas Methods\n",
    "\n",
    "| Método | Descripción | Sintaxis y Ejemplo |\n",
    "|--------|-------------|-------------------|\n",
    "| **import pandas** | Importa la librería Pandas | ```python<br>import pandas as pd<br>``` |\n",
    "| **.read_csv()** | Lee datos desde archivo CSV a DataFrame | ```python<br>df = pd.read_csv(\"data.csv\")<br>print(df.head())<br>``` |\n",
    "| **.read_excel()** | Lee datos desde archivo Excel a DataFrame | ```python<br>df = pd.read_excel(\"data.xlsx\")<br>print(df.head())<br>``` |\n",
    "| **.to_csv()** | Escribe DataFrame a archivo CSV | ```python<br>df.to_csv(\"output.csv\", index=False)<br>``` |\n",
    "| **Acceder columnas** | Accede a columnas específicas del DataFrame | ```python<br># Columna única<br>ages = df[\"age\"]<br># Múltiples columnas<br>subset = df[[\"name\", \"age\", \"salary\"]]<br>print(ages)<br>print(subset)<br>``` |\n",
    "| **.describe()** | Genera estadísticas de columnas numéricas | ```python<br>stats = df.describe()<br>print(stats)<br>``` |\n",
    "| **.drop()** | Elimina filas o columnas especificadas | ```python<br># Eliminar columnas<br>df.drop([\"age\", \"salary\"], axis=1, inplace=True)<br># Eliminar filas<br>df.drop(index=[5, 10], axis=0, inplace=True)<br>print(df)<br>``` |\n",
    "| **.dropna()** | Elimina filas con valores NaN | ```python<br>df.dropna(axis=0, inplace=True)<br>print(df)<br>``` |\n",
    "| **.duplicated()** | Encuentra filas duplicadas | ```python<br>duplicate_rows = df[df.duplicated()]<br>print(f\"Filas duplicadas: {len(duplicate_rows)}\")<br>``` |\n",
    "| **Filtrar filas** | Crea nuevo DataFrame con condiciones | ```python<br>filtered_df = df[(df[\"age\"] > 30) & (df[\"salary\"] < 50000)]<br>print(filtered_df)<br>``` |\n",
    "| **.groupby()** | Agrupa DataFrame por criterios específicos | ```python<br>grouped = df.groupby([\"category\", \"region\"]).agg({\"sales\": \"sum\"})<br>print(grouped)<br>``` |\n",
    "| **.head()** | Muestra primeras n filas del DataFrame | ```python<br>primeras_5 = df.head(5)<br>print(primeras_5)<br>``` |\n",
    "| **.info()** | Proporciona información del DataFrame | ```python<br>df.info()<br>``` |\n",
    "| **.merge()** | Fusiona dos DataFrames por columnas comunes | ```python<br>merged_df = pd.merge(df1, df2, on=[\"product_id\", \"category_id\"])<br>print(merged_df)<br>``` |\n",
    "| **Imprimir DataFrame** | Muestra contenido del DataFrame | ```python<br>print(df)<br># O simplemente:<br>df<br>``` |\n",
    "| **.replace()** | Reemplaza valores específicos en columna | ```python<br>df[\"status\"].replace(\"In Progress\", \"Active\", inplace=True)<br>print(df[\"status\"].unique())<br>``` |\n",
    "| **.tail()** | Muestra últimas n filas del DataFrame | ```python<br>ultimas_5 = df.tail(5)<br>print(ultimas_5)<br>``` |\n",
    "\n",
    "## NumPy Methods\n",
    "\n",
    "| Método | Descripción | Sintaxis y Ejemplo |\n",
    "|--------|-------------|-------------------|\n",
    "| **Importar NumPy** | Importa la librería NumPy | ```python<br>import numpy as np<br>``` |\n",
    "| **np.array()** | Crea arrays uni o multi-dimensionales | ```python<br># Array 1D<br>array_1d = np.array([1, 2, 3])<br># Array 2D<br>array_2d = np.array([[1, 2], [3, 4]])<br>print(\"1D:\", array_1d)<br>print(\"2D:\", array_2d)<br>``` |\n",
    "| **Atributos de arrays** | Operaciones matemáticas básicas en arrays | ```python<br>arr = np.array([1, 2, 3, 4, 5])<br>print(\"Media:\", np.mean(arr))<br>print(\"Suma:\", np.sum(arr))<br>print(\"Mínimo:\", np.min(arr))<br>print(\"Máximo:\", np.max(arr))<br><br># Producto punto<br>arr1 = np.array([1, 2, 3])<br>arr2 = np.array([4, 5, 6])<br>dot_product = np.dot(arr1, arr2)<br>print(\"Producto punto:\", dot_product)<br>``` |\n",
    "| **Atributos de forma** | Propiedades de forma y dimensión de arrays | ```python<br>arr_2d = np.array([[1, 2, 3], [4, 5, 6]])<br>print(\"Shape:\", arr_2d.shape)<br>print(\"Dimensions:\", arr_2d.ndim)<br>print(\"Size:\", arr_2d.size)<br>print(\"Data type:\", arr_2d.dtype)<br>``` |\n",
    "| **Operaciones array** | Operaciones matemáticas entre arrays | ```python<br>a = np.array([1, 2, 3])<br>b = np.array([4, 5, 6])<br><br>print(\"Suma:\", a + b)<br>print(\"Resta:\", a - b)<br>print(\"Multiplicación:\", a * b)<br>print(\"División:\", a / b)<br>``` |\n",
    "| **Funciones de creación** | Crear arrays con patrones específicos | ```python<br>zeros = np.zeros((2, 3))  # Array de ceros<br>ones = np.ones((2, 2))    # Array de unos<br>full = np.full((2, 2), 7) # Array con valor constante<br>range_arr = np.arange(0, 10, 2)  # Array con rango<br><br>print(\"Zeros:\", zeros)<br>print(\"Ones:\", ones)<br>print(\"Full:\", full)<br>print(\"Arange:\", range_arr)<br>``` |"
   ]
  },
  {
   "cell_type": "markdown",
   "id": "a00a4312",
   "metadata": {},
   "source": [
    "# Module 5"
   ]
  },
  {
   "cell_type": "markdown",
   "id": "027b8f22",
   "metadata": {},
   "source": [
    "An API lets two pieces of software talk to each other. For example, you have your program, you have some data, you have other software components. You use the API to communicate with other software via inputs and outputs. Just like a function, you don’t have to know how the API works, just its inputs and outputs. Pandas is actually a set of software components, much of which are not even written in Python. \n",
    "You have some data. You have a set of software components. We use the pandas API to process the data by communicating with the other software components. \n",
    "\n",
    "\n",
    "REST APIs are another popular type of API; they allow you to communicate through the internet allowing you to take advantage of resources like storage, access more data, artificial intelligence algorithms, and much more. The RE stands for Representational, the S for State, and T for Transfer. In REST APIs your program is called the client. The API communicates with a web service you call through the internet. There is a set of rules regarding communication, input or request, and output or response.\n",
    "\n",
    "HTTP methods are a way of transmitting data over the internet. We tell the REST APIs what to do by sending a request. The request is usually communicated via an HTTP message. The HTTP message usually contains a JSON file. \n",
    "This contains instructions for what operation we would like the service to perform. This operation is transmitted to the web service via the internet. The service performs the operation. In a similar manner, the web service returns a response via an HTTP message, where the information is usually returned via a JSON file. This information is transmitted back to the client.\n",
    "\n",
    "\n",
    "\n",
    "We touched on REST APIs in the last section. The HTTP protocol can be thought of as a general protocol of transferring information through the web. This includes many types of REST APIs. Recall that REST APIs function by sending a request, and the request is communicated via HTTP message. The HTTP message usually contains a JSON file. When you, the client, use a web page your browser sends an HTTP request to the server where the page is hosted. The server tries to find the desired resource by default \"index.html\".\n",
    "\n",
    "If your request is successful, the server will send the object to the client in an HTTP response; this includes information like the type of the resource, the length of the resource, and other information. When the request is made for the information, the web servers sends the the requested information, that is, one of the files."
   ]
  },
  {
   "cell_type": "markdown",
   "id": "a3e535a9",
   "metadata": {},
   "source": [
    "A uniform resource locator (URL) is the most popular way to find resources on the web. We can break the URL into three parts. \n",
    "\n",
    "- First we have the scheme: this is the protocol, and for this lab it will always be http:// \n",
    "- The internet address or Base URL: this will be used to find the location; some examples include www.ibm.com and www.gitlab.com \n",
    "- And finaly, the route: this is the location on the web server, for example: /images/IDSNlogo.png    \n",
    "\n",
    "\n",
    "Requests is a Python library that allows you to send HTTP/1.1 requests easily. We can import the library as follows. You can make a GET request via the method GET to www.ibm.com. \n",
    "We have the response object R. This has information about the request, like the status of the request. We can view the status code using the attribute status underscore code, which is 200 for OK."
   ]
  },
  {
   "cell_type": "markdown",
   "id": "adb7ed3f",
   "metadata": {},
   "source": [
    "| Método | Descripción | Ejemplo de Código |\n",
    "|--------|-------------|-------------------|\n",
    "| **Accessing element attribute** | Accede al valor de un atributo específico de un elemento HTML | ```python<br>href = link_element['href']<br>print(href)<br>``` |\n",
    "| **BeautifulSoup()** | Parsea el contenido HTML de una página web | ```python<br>from bs4 import BeautifulSoup<br>html = \"<html>...</html>\"<br>soup = BeautifulSoup(html, 'html.parser')<br>print(soup.prettify())<br>``` |\n",
    "| **delete()** | Envía una petición DELETE para eliminar datos del servidor | ```python<br>import requests<br>response = requests.delete('https://api.example.com/delete')<br>print(f\"Status: {response.status_code}\")<br>``` |\n",
    "| **find()** | Encuentra el primer elemento HTML que coincide con el tag y atributos especificados | ```python<br>first_link = soup.find('a', {'class': 'link'})<br>print(first_link.text)<br>``` |\n",
    "| **find_all()** | Encuentra todos los elementos HTML que coinciden con el tag y atributos especificados | ```python<br>all_links = soup.find_all('a', {'class': 'link'})<br>for link in all_links:<br>    print(link.text)<br>``` |\n",
    "| **findChildren()** | Encuentra todos los elementos hijos de un elemento HTML | ```python<br>child_elements = parent_div.findChildren()<br>for child in child_elements:<br>    print(child.name)<br>``` |\n",
    "| **get()** | Realiza una petición GET para recuperar datos de una URL | ```python<br>response = requests.get('https://api.example.com/data')<br>print(response.text)<br>``` |\n",
    "| **Headers** | Incluye headers personalizados en la petición | ```python<br>base_url = 'https://api.example.com/data'<br>headers = {'Authorization': 'Bearer YOUR_TOKEN'}<br>response = requests.get(base_url, headers=headers)<br>print(response.json())<br>``` |\n",
    "| **Import Libraries** | Importa las librerías necesarias para web scraping | ```python<br>from bs4 import BeautifulSoup<br>import requests<br>``` |\n",
    "| **json()** | Parsea datos JSON de la respuesta | ```python<br>response = requests.get('https://api.example.com/data')<br>data = response.json()<br>print(data)<br>``` |\n",
    "| **next_sibling()** | Encuentra el siguiente elemento hermano en el DOM | ```python<br>next_sibling = current_element.find_next_sibling()<br>print(next_sibling)<br>``` |\n",
    "| **parent** | Accede al elemento padre en el DOM | ```python<br>parent_div = paragraph.parent<br>print(parent_div.name)<br>``` |\n",
    "| **post()** | Envía una petición POST con datos a una URL | ```python<br>data = {'key': 'value'}<br>response = requests.post('https://api.example.com/submit', data=data)<br>print(response.status_code)<br>``` |\n",
    "| **put()** | Envía una petición PUT para actualizar datos en el servidor | ```python<br>data = {'key': 'new_value'}<br>response = requests.put('https://api.example.com/update', data=data)<br>print(response.status_code)<br>``` |\n",
    "| **Query parameters** | Pasa parámetros de consulta en la URL para filtrar datos | ```python<br>base_url = \"https://api.example.com/data\"<br>params = {\"page\": 1, \"per_page\": 10}<br>response = requests.get(base_url, params=params)<br>print(response.url)<br>``` |\n",
    "| **select()** | Selecciona elementos HTML usando selectores CSS | ```python<br>titles = soup.select('h1')<br>for title in titles:<br>    print(title.text)<br>``` |\n",
    "| **status_code** | Verifica el código de estado HTTP de la respuesta | ```python<br>url = \"https://api.example.com/data\"<br>response = requests.get(url)<br>status_code = response.status_code<br>print(f\"Status: {status_code}\")<br>``` |\n",
    "| **Tags for find()/find_all()** | Tags HTML comunes para búsquedas | ```python<br># Ejemplos de tags comunes:<br># 'a' - enlaces<br># 'p' - párrafos<br># 'h1'-'h6' - encabezados<br># 'table' - tablas<br># 'img' - imágenes<br># 'div' - divisiones<br><br>links = soup.find_all('a')<br>headings = soup.find_all('h1')<br>images = soup.find_all('img')<br>``` |\n",
    "| **text** | Recupera el contenido de texto de un elemento HTML | ```python<br>title_text = title_element.text<br>print(title_text.strip())<br>``` |\n",
    "\n",
    "## Ejemplo Completo de Web Scraping\n",
    "\n",
    "```python\n",
    "from bs4 import BeautifulSoup\n",
    "import requests\n",
    "\n",
    "# Obtener contenido HTML\n",
    "url = 'https://example.com'\n",
    "response = requests.get(url)\n",
    "soup = BeautifulSoup(response.content, 'html.parser')\n",
    "\n",
    "# Extraer todos los títulos\n",
    "titles = soup.find_all('h1')\n",
    "for title in titles:\n",
    "    print(title.text)\n",
    "\n",
    "# Extraer todos los enlaces\n",
    "links = soup.find_all('a')\n",
    "for link in links:\n",
    "    href = link.get('href')\n",
    "    text = link.text\n",
    "    print(f\"{text}: {href}\")\n",
    "```\n",
    "\n",
    "## Ejemplo Completo de API Request\n",
    "\n",
    "```python\n",
    "import requests\n",
    "\n",
    "# Headers de autenticación\n",
    "headers = {\n",
    "    'Authorization': 'Bearer YOUR_ACCESS_TOKEN',\n",
    "    'Content-Type': 'application/json'\n",
    "}\n",
    "\n",
    "# Parámetros de consulta\n",
    "params = {\n",
    "    'page': 1,\n",
    "    'limit': 10\n",
    "}\n",
    "\n",
    "# Realizar petición GET\n",
    "response = requests.get(\n",
    "    'https://api.example.com/data',\n",
    "    headers=headers,\n",
    "    params=params\n",
    ")\n",
    "\n",
    "# Verificar estado y procesar respuesta\n",
    "if response.status_code == 200:\n",
    "    data = response.json()\n",
    "    print(\"Datos recibidos:\", data)\n",
    "else:\n",
    "    print(f\"Error: {response.status_code}\")\n",
    "```"
   ]
  }
 ],
 "metadata": {
  "kernelspec": {
   "display_name": "base",
   "language": "python",
   "name": "python3"
  },
  "language_info": {
   "codemirror_mode": {
    "name": "ipython",
    "version": 3
   },
   "file_extension": ".py",
   "mimetype": "text/x-python",
   "name": "python",
   "nbconvert_exporter": "python",
   "pygments_lexer": "ipython3",
   "version": "3.11.7"
  }
 },
 "nbformat": 4,
 "nbformat_minor": 5
}
